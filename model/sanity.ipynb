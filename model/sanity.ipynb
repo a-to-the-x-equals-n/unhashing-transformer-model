{
 "cells": [
  {
   "cell_type": "code",
   "execution_count": 1,
   "id": "e8d0b9eb",
   "metadata": {},
   "outputs": [],
   "source": [
    "from tokenizer import Token\n",
    "\n",
    "tk = Token()"
   ]
  },
  {
   "cell_type": "code",
   "execution_count": 2,
   "id": "0642e3b6",
   "metadata": {},
   "outputs": [
    {
     "name": "stdout",
     "output_type": "stream",
     "text": [
      "95\n",
      "5f\n",
      "[95, 77]\n",
      "5f4d\n",
      "[35, 48, 14, 14, 70, 62, 65, 51]\n",
      "Pa55word\n"
     ]
    }
   ],
   "source": [
    "print(tk.htoi['5f']) # 95\n",
    "print(tk.itoh[95])   # '5f'\n",
    "\n",
    "encoded = tk.encode_hex(\"5f4d\")\n",
    "print(encoded) # [95, 77]\n",
    "print(tk.decode_hex(encoded)) # '5f4d'\n",
    "\n",
    "pw = \"Pa55word\"\n",
    "enc_pw = tk.encode_txt(pw)\n",
    "print(enc_pw)\n",
    "print(tk.decode_txt(enc_pw))"
   ]
  },
  {
   "cell_type": "code",
   "execution_count": 3,
   "id": "00989864",
   "metadata": {},
   "outputs": [
    {
     "name": "stdout",
     "output_type": "stream",
     "text": [
      "saved <class 'dict'> to /home/athena--/xdev/school/dm/project/model/vocab/vocab\n"
     ]
    }
   ],
   "source": [
    "tk.save_vocab('vocab')"
   ]
  }
 ],
 "metadata": {
  "kernelspec": {
   "display_name": "Python 3",
   "language": "python",
   "name": "python3"
  },
  "language_info": {
   "codemirror_mode": {
    "name": "ipython",
    "version": 3
   },
   "file_extension": ".py",
   "mimetype": "text/x-python",
   "name": "python",
   "nbconvert_exporter": "python",
   "pygments_lexer": "ipython3",
   "version": "3.10.12"
  }
 },
 "nbformat": 4,
 "nbformat_minor": 5
}
