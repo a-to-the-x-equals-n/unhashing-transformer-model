{
 "cells": [
  {
   "cell_type": "code",
   "execution_count": 1,
   "id": "e8d0b9eb",
   "metadata": {},
   "outputs": [],
   "source": [
    "from tokenizer import Token"
   ]
  },
  {
   "cell_type": "code",
   "execution_count": 2,
   "id": "3af74006",
   "metadata": {},
   "outputs": [
    {
     "data": {
      "text/plain": [
       "'/home/athena--/xdev/school/dm/project'"
      ]
     },
     "execution_count": 2,
     "metadata": {},
     "output_type": "execute_result"
    }
   ],
   "source": [
    "tk = Token()\n",
    "v = tk.build_hex_vocab()\n",
    "tk.root"
   ]
  },
  {
   "cell_type": "code",
   "execution_count": 3,
   "id": "6d9a7fbd",
   "metadata": {},
   "outputs": [
    {
     "data": {
      "text/plain": [
       "<coroutine object Token.save_vocab at 0x786fa81cadc0>"
      ]
     },
     "execution_count": 3,
     "metadata": {},
     "output_type": "execute_result"
    }
   ],
   "source": [
    "# import asyncio\n",
    "tk.save_vocab(v, 'hex_vocab')"
   ]
  },
  {
   "cell_type": "code",
   "execution_count": 4,
   "id": "0642e3b6",
   "metadata": {},
   "outputs": [],
   "source": [
    "# from pprint import pprint\n",
    "\n",
    "# pprint(v)"
   ]
  }
 ],
 "metadata": {
  "kernelspec": {
   "display_name": "Python 3",
   "language": "python",
   "name": "python3"
  },
  "language_info": {
   "codemirror_mode": {
    "name": "ipython",
    "version": 3
   },
   "file_extension": ".py",
   "mimetype": "text/x-python",
   "name": "python",
   "nbconvert_exporter": "python",
   "pygments_lexer": "ipython3",
   "version": "3.10.12"
  }
 },
 "nbformat": 4,
 "nbformat_minor": 5
}
