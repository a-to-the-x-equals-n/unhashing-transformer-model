{
 "cells": [
  {
   "cell_type": "code",
   "execution_count": 1,
   "id": "7158325d",
   "metadata": {},
   "outputs": [
    {
     "name": "stdout",
     "output_type": "stream",
     "text": [
      "74\n"
     ]
    }
   ],
   "source": [
    "import string\n",
    "\n",
    "_ALLOWED_PW_CHARS = sorted(set(string.ascii_letters + string.digits + '!@#$%^&*()-_'))\n",
    "\n",
    "print(len(_ALLOWED_PW_CHARS))"
   ]
  }
 ],
 "metadata": {
  "kernelspec": {
   "display_name": "Python 3",
   "language": "python",
   "name": "python3"
  },
  "language_info": {
   "codemirror_mode": {
    "name": "ipython",
    "version": 3
   },
   "file_extension": ".py",
   "mimetype": "text/x-python",
   "name": "python",
   "nbconvert_exporter": "python",
   "pygments_lexer": "ipython3",
   "version": "3.10.12"
  }
 },
 "nbformat": 4,
 "nbformat_minor": 5
}
